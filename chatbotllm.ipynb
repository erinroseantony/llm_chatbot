{
 "cells": [
  {
   "cell_type": "code",
   "execution_count": 6,
   "id": "e5825f4e-b5bb-4ede-aa16-b5e43c05e3b7",
   "metadata": {},
   "outputs": [],
   "source": [
    "import ollama\n",
    "import streamlit as st"
   ]
  },
  {
   "cell_type": "code",
   "execution_count": 7,
   "id": "ae0af4d6-4427-4201-865b-c3cacc24a5fe",
   "metadata": {},
   "outputs": [],
   "source": [
    "def generate_llm_response(prompt, model= \"tinyllama\"): \n",
    "    messages = [{\"role\": \"user\", \"content\": prompt}]\n",
    "    response=ollama.chat(model =model, messages=messages)\n",
    "    return response['message']['content']"
   ]
  },
  {
   "cell_type": "code",
   "execution_count": 9,
   "id": "46b53767-2c79-4ed0-8e03-ee8b6c5835d2",
   "metadata": {},
   "outputs": [],
   "source": [
    "st.title(\"Chatbot\")\n",
    "st.write(\"interact with a llm and generate responses.\")\n",
    "\n",
    "user_prompt= st.text_area(\"enter your prompt\")\n",
    "\n",
    "\n",
    "if st.button(\"generate responses\"):\n",
    "    if user_prompt.strip() != \"\":\n",
    "        with st.spinner(\"Generating responses....\"): \n",
    "            try: \n",
    "                response = generate_llm_response(user_prompt)\n",
    "                st.success(\"Response generated!\")\n",
    "                st.text_area(\"LLM response :\", value =response ,height=600) \n",
    "            except Exception as e: \n",
    "                st.error(f\"Error: {str(e)}\") \n",
    "    else: \n",
    "        st.warning(\"Please enter a prompt\")\n",
    "                \n",
    "            "
   ]
  },
  {
   "cell_type": "code",
   "execution_count": null,
   "id": "a8c23df4-2b02-4743-ba43-ca0d44b6eba2",
   "metadata": {},
   "outputs": [],
   "source": []
  }
 ],
 "metadata": {
  "kernelspec": {
   "display_name": "Python 3 (ipykernel)",
   "language": "python",
   "name": "python3"
  },
  "language_info": {
   "codemirror_mode": {
    "name": "ipython",
    "version": 3
   },
   "file_extension": ".py",
   "mimetype": "text/x-python",
   "name": "python",
   "nbconvert_exporter": "python",
   "pygments_lexer": "ipython3",
   "version": "3.11.7"
  }
 },
 "nbformat": 4,
 "nbformat_minor": 5
}
